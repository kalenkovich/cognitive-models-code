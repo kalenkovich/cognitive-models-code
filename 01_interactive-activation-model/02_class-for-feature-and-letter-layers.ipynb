{
 "cells": [
  {
   "cell_type": "code",
   "execution_count": 1,
   "metadata": {},
   "outputs": [],
   "source": [
    "import numpy as np"
   ]
  },
  {
   "cell_type": "code",
   "execution_count": 2,
   "metadata": {},
   "outputs": [],
   "source": [
    "feature_numbers = {\n",
    "    'A': [0, 1, 2, 3, 4, 6, 8],\n",
    "    'B': [2, 3, 4, 5, 7, 8, 9],\n",
    "    'C': [0, 1, 2, 5],\n",
    "    'D': [2, 3, 4, 5, 7, 9],\n",
    "    'E': [0, 1, 2, 5, 6],\n",
    "    'F': [0, 1, 2, 6],\n",
    "    'G': [0, 1, 2, 4, 5, 8],\n",
    "    'H': [0, 1, 3, 4, 6, 8],\n",
    "    'I': [2, 5, 7, 9],\n",
    "    'J': [0, 3, 4, 5],\n",
    "    'K': [0, 1, 6, 11, 12],\n",
    "    'L': [0, 1, 5],\n",
    "    'M': [0, 1, 3, 4, 10, 11],\n",
    "    'N': [0, 1, 3, 4, 10, 12],\n",
    "    'O': [0, 1, 2, 3, 4, 5],\n",
    "    'P': [0, 1, 2, 3, 6, 8],\n",
    "    'Q': [0, 1, 2, 3, 4, 5, 12],\n",
    "    'R': [0, 1, 2, 3, 6, 8, 12],\n",
    "    'S': [1, 2, 4, 5, 6, 8],\n",
    "    'T': [2, 7, 9],\n",
    "    'U': [0, 1, 3, 4, 5],\n",
    "    'V': [0, 1, 11, 13],\n",
    "    'W': [0, 1, 3, 4, 12, 13],\n",
    "    'X': [10, 11, 12, 13],\n",
    "    'Y': [9, 10, 11],\n",
    "    'Z': [2, 5, 11, 13]\n",
    "}\n",
    "\n",
    "feature_count = 14\n",
    "features_binary = {\n",
    "    letter: [1 if i in feature_list else 0 for i in range(feature_count)]\n",
    "    for letter, feature_list in feature_numbers.items()}"
   ]
  },
  {
   "cell_type": "code",
   "execution_count": 3,
   "metadata": {},
   "outputs": [],
   "source": [
    "class IAM(object):\n",
    "    \n",
    "    def __init__(self):\n",
    "        self.M = 1.0  # maximum activation\n",
    "        self.m = -0.2  # minimum activation\n",
    "        self.theta = 0.07  # decay rate\n",
    "        self.r_feature = 0  # baseline activation\n",
    "        self.position_count = 4  # number of letters\n",
    "        \n",
    "        self.feature_nodes = np.zeros((self.position_count, feature_count))\n",
    "        \n",
    "    def present_word(self, word: str):\n",
    "        \"\"\"Show a word to the model\"\"\"\n",
    "        features_present = np.array([features_binary[letter] for letter in word])\n",
    "        # Set features present in the word to the maximum activation\n",
    "        self.feature_nodes = self.M * features_present\n",
    "        \n",
    "    def run_cycle(self):        \n",
    "        decay = (self.feature_nodes - self.r_feature) * self.theta\n",
    "        self.feature_nodes = self.feature_nodes - decay"
   ]
  },
  {
   "cell_type": "code",
   "execution_count": 4,
   "metadata": {},
   "outputs": [],
   "source": [
    "iam = IAM()\n",
    "iam.present_word('WORK')"
   ]
  }
 ],
 "metadata": {
  "kernelspec": {
   "display_name": "Python [conda env:cogmod_1_IAM]",
   "language": "python",
   "name": "conda-env-cogmod_1_IAM-py"
  },
  "language_info": {
   "codemirror_mode": {
    "name": "ipython",
    "version": 3
   },
   "file_extension": ".py",
   "mimetype": "text/x-python",
   "name": "python",
   "nbconvert_exporter": "python",
   "pygments_lexer": "ipython3",
   "version": "3.7.7"
  },
  "toc": {
   "base_numbering": 1,
   "nav_menu": {},
   "number_sections": true,
   "sideBar": true,
   "skip_h1_title": false,
   "title_cell": "Table of Contents",
   "title_sidebar": "Contents",
   "toc_cell": false,
   "toc_position": {},
   "toc_section_display": true,
   "toc_window_display": false
  }
 },
 "nbformat": 4,
 "nbformat_minor": 4
}
