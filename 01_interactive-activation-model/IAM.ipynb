{
 "cells": [
  {
   "cell_type": "code",
   "execution_count": 1,
   "metadata": {},
   "outputs": [],
   "source": [
    "import pandas as pd"
   ]
  },
  {
   "cell_type": "markdown",
   "metadata": {},
   "source": [
    "# Load four letter words "
   ]
  },
  {
   "cell_type": "code",
   "execution_count": 2,
   "metadata": {},
   "outputs": [
    {
     "data": {
      "text/html": [
       "<div>\n",
       "<style scoped>\n",
       "    .dataframe tbody tr th:only-of-type {\n",
       "        vertical-align: middle;\n",
       "    }\n",
       "\n",
       "    .dataframe tbody tr th {\n",
       "        vertical-align: top;\n",
       "    }\n",
       "\n",
       "    .dataframe thead th {\n",
       "        text-align: right;\n",
       "    }\n",
       "</style>\n",
       "<table border=\"1\" class=\"dataframe\">\n",
       "  <thead>\n",
       "    <tr style=\"text-align: right;\">\n",
       "      <th></th>\n",
       "      <th>word</th>\n",
       "      <th>frequency</th>\n",
       "    </tr>\n",
       "  </thead>\n",
       "  <tbody>\n",
       "    <tr>\n",
       "      <th>0</th>\n",
       "      <td>a</td>\n",
       "      <td>23248</td>\n",
       "    </tr>\n",
       "    <tr>\n",
       "      <th>1</th>\n",
       "      <td>a-coming</td>\n",
       "      <td>2</td>\n",
       "    </tr>\n",
       "    <tr>\n",
       "      <th>2</th>\n",
       "      <td>a-crowing</td>\n",
       "      <td>1</td>\n",
       "    </tr>\n",
       "    <tr>\n",
       "      <th>3</th>\n",
       "      <td>a-drinking</td>\n",
       "      <td>1</td>\n",
       "    </tr>\n",
       "    <tr>\n",
       "      <th>4</th>\n",
       "      <td>a-gracious</td>\n",
       "      <td>1</td>\n",
       "    </tr>\n",
       "    <tr>\n",
       "      <th>...</th>\n",
       "      <td>...</td>\n",
       "      <td>...</td>\n",
       "    </tr>\n",
       "    <tr>\n",
       "      <th>46367</th>\n",
       "      <td>zur</td>\n",
       "      <td>2</td>\n",
       "    </tr>\n",
       "    <tr>\n",
       "      <th>46368</th>\n",
       "      <td>zurcher</td>\n",
       "      <td>2</td>\n",
       "    </tr>\n",
       "    <tr>\n",
       "      <th>46369</th>\n",
       "      <td>zurich</td>\n",
       "      <td>2</td>\n",
       "    </tr>\n",
       "    <tr>\n",
       "      <th>46370</th>\n",
       "      <td>zwei</td>\n",
       "      <td>1</td>\n",
       "    </tr>\n",
       "    <tr>\n",
       "      <th>46371</th>\n",
       "      <td>zworykin</td>\n",
       "      <td>2</td>\n",
       "    </tr>\n",
       "  </tbody>\n",
       "</table>\n",
       "<p>46372 rows × 2 columns</p>\n",
       "</div>"
      ],
      "text/plain": [
       "             word  frequency\n",
       "0               a      23248\n",
       "1        a-coming          2\n",
       "2       a-crowing          1\n",
       "3      a-drinking          1\n",
       "4      a-gracious          1\n",
       "...           ...        ...\n",
       "46367         zur          2\n",
       "46368     zurcher          2\n",
       "46369      zurich          2\n",
       "46370        zwei          1\n",
       "46371    zworykin          2\n",
       "\n",
       "[46372 rows x 2 columns]"
      ]
     },
     "execution_count": 2,
     "metadata": {},
     "output_type": "execute_result"
    }
   ],
   "source": [
    "# Kucera & Francis Word Pool downloaded from http://memory.psych.upenn.edu/files/wordpools/kfpool.txt\n",
    "kf_corpus = pd.read_csv('kfpool.txt', header=None, sep=' ', names=['word', 'frequency'])\n",
    "\n",
    "kf_corpus"
   ]
  },
  {
   "cell_type": "markdown",
   "metadata": {},
   "source": [
    "Let's see how many four letter words there are in the corpus."
   ]
  },
  {
   "cell_type": "code",
   "execution_count": 3,
   "metadata": {},
   "outputs": [
    {
     "data": {
      "text/plain": [
       "2347"
      ]
     },
     "execution_count": 3,
     "metadata": {},
     "output_type": "execute_result"
    }
   ],
   "source": [
    "(kf_corpus.word.str.len() == 4).sum()"
   ]
  },
  {
   "cell_type": "markdown",
   "metadata": {},
   "source": [
    "That is more than 1179 words reported in McClelland & Rumelhart, 1981. Probably they filtered by frequency."
   ]
  },
  {
   "cell_type": "code",
   "execution_count": 4,
   "metadata": {},
   "outputs": [
    {
     "name": "stdout",
     "output_type": "stream",
     "text": [
      "There are 2347 four letter words with frequency larger than 0\n",
      "There are 1721 four letter words with frequency larger than 1\n",
      "There are 1444 four letter words with frequency larger than 2\n",
      "There are 1294 four letter words with frequency larger than 3\n",
      "There are 1188 four letter words with frequency larger than 4\n",
      "There are 1092 four letter words with frequency larger than 5\n",
      "There are 1029 four letter words with frequency larger than 6\n"
     ]
    }
   ],
   "source": [
    "for i in range(7):\n",
    "    word_count = len(kf_corpus[(kf_corpus.word.str.len() == 4) & (kf_corpus.frequency > i)])\n",
    "    print(f'There are {word_count} four letter words with frequency larger than {i}')"
   ]
  },
  {
   "cell_type": "markdown",
   "metadata": {},
   "source": [
    "Frequency threshold of 4 yields the number closest to 1179."
   ]
  },
  {
   "cell_type": "code",
   "execution_count": 5,
   "metadata": {},
   "outputs": [
    {
     "data": {
      "text/plain": [
       "1188"
      ]
     },
     "execution_count": 5,
     "metadata": {},
     "output_type": "execute_result"
    }
   ],
   "source": [
    "four_letter_words = kf_corpus[(kf_corpus.word.str.len() == 4) & (kf_corpus.frequency > 4)]\n",
    "len(four_letter_words)"
   ]
  },
  {
   "cell_type": "markdown",
   "metadata": {},
   "source": [
    "# Encode letters as feature bundles "
   ]
  },
  {
   "cell_type": "markdown",
   "metadata": {},
   "source": [
    "In the original model, the input letters came from a simplified font in which each letter is composed of a number of simplified line strokes (*features*) as in the following image:\n",
    "\n",
    "![Font from Rumelhar & Siple, 1974](rumelhart-siple-font.jpg)"
   ]
  },
  {
   "cell_type": "markdown",
   "metadata": {},
   "source": [
    "Here are all the features numbered from 0 to 13:\n",
    "\n",
    "![Numbered line features](line_features.png)"
   ]
  },
  {
   "cell_type": "markdown",
   "metadata": {},
   "source": [
    "A list of letters specifying which features it is composed of."
   ]
  },
  {
   "cell_type": "code",
   "execution_count": 6,
   "metadata": {},
   "outputs": [],
   "source": [
    "feature_numbers = {\n",
    "    'A': [0, 1, 2, 3, 4, 6, 8],\n",
    "    'B': [2, 3, 4, 5, 7, 8, 9],\n",
    "    'C': [0, 1, 2, 5],\n",
    "    'D': [2, 3, 4, 5, 7, 9],\n",
    "    'E': [0, 1, 2, 5, 6],\n",
    "    'F': [0, 1, 2, 6],\n",
    "    'G': [0, 1, 2, 4, 5, 8],\n",
    "    'H': [0, 1, 3, 4, 6, 8],\n",
    "    'I': [2, 5, 7, 9],\n",
    "    'J': [0, 3, 4, 5],\n",
    "    'K': [0, 1, 6, 11, 12],\n",
    "    'L': [0, 1, 5],\n",
    "    'M': [0, 1, 3, 4, 10, 11],\n",
    "    'N': [0, 1, 3, 4, 10, 12],\n",
    "    'O': [0, 1, 2, 3, 4, 5],\n",
    "    'P': [0, 1, 2, 3, 6, 8],\n",
    "    'Q': [0, 1, 2, 3, 4, 5, 12],\n",
    "    'R': [0, 1, 2, 3, 6, 8, 12],\n",
    "    'S': [1, 2, 4, 5, 6, 8],\n",
    "    'T': [2, 7, 9],\n",
    "    'U': [0, 1, 3, 4, 5],\n",
    "    'V': [0, 1, 11, 13],\n",
    "    'W': [0, 1, 3, 4, 12, 13],\n",
    "    'X': [10, 11, 12, 13],\n",
    "    'Y': [9, 10, 11],\n",
    "    'Z': [2, 5, 11, 13]\n",
    "}"
   ]
  }
 ],
 "metadata": {
  "kernelspec": {
   "display_name": "Python [conda env:cogmod_1_IAM]",
   "language": "python",
   "name": "conda-env-cogmod_1_IAM-py"
  },
  "language_info": {
   "codemirror_mode": {
    "name": "ipython",
    "version": 3
   },
   "file_extension": ".py",
   "mimetype": "text/x-python",
   "name": "python",
   "nbconvert_exporter": "python",
   "pygments_lexer": "ipython3",
   "version": "3.7.7"
  },
  "toc": {
   "base_numbering": 1,
   "nav_menu": {},
   "number_sections": true,
   "sideBar": true,
   "skip_h1_title": false,
   "title_cell": "Table of Contents",
   "title_sidebar": "Contents",
   "toc_cell": false,
   "toc_position": {},
   "toc_section_display": true,
   "toc_window_display": false
  }
 },
 "nbformat": 4,
 "nbformat_minor": 4
}
