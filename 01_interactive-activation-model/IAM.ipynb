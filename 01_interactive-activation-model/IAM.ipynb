{
 "cells": [
  {
   "cell_type": "code",
   "execution_count": 1,
   "metadata": {},
   "outputs": [],
   "source": [
    "import pandas as pd\n",
    "%matplotlib inline\n",
    "from matplotlib import pyplot as plt\n",
    "import numpy as np"
   ]
  },
  {
   "cell_type": "markdown",
   "metadata": {},
   "source": [
    "# Load four letter words "
   ]
  },
  {
   "cell_type": "code",
   "execution_count": 2,
   "metadata": {},
   "outputs": [
    {
     "data": {
      "text/html": [
       "<div>\n",
       "<style scoped>\n",
       "    .dataframe tbody tr th:only-of-type {\n",
       "        vertical-align: middle;\n",
       "    }\n",
       "\n",
       "    .dataframe tbody tr th {\n",
       "        vertical-align: top;\n",
       "    }\n",
       "\n",
       "    .dataframe thead th {\n",
       "        text-align: right;\n",
       "    }\n",
       "</style>\n",
       "<table border=\"1\" class=\"dataframe\">\n",
       "  <thead>\n",
       "    <tr style=\"text-align: right;\">\n",
       "      <th></th>\n",
       "      <th>word</th>\n",
       "      <th>frequency</th>\n",
       "    </tr>\n",
       "  </thead>\n",
       "  <tbody>\n",
       "    <tr>\n",
       "      <th>0</th>\n",
       "      <td>a</td>\n",
       "      <td>23248</td>\n",
       "    </tr>\n",
       "    <tr>\n",
       "      <th>1</th>\n",
       "      <td>a-coming</td>\n",
       "      <td>2</td>\n",
       "    </tr>\n",
       "    <tr>\n",
       "      <th>2</th>\n",
       "      <td>a-crowing</td>\n",
       "      <td>1</td>\n",
       "    </tr>\n",
       "    <tr>\n",
       "      <th>3</th>\n",
       "      <td>a-drinking</td>\n",
       "      <td>1</td>\n",
       "    </tr>\n",
       "    <tr>\n",
       "      <th>4</th>\n",
       "      <td>a-gracious</td>\n",
       "      <td>1</td>\n",
       "    </tr>\n",
       "    <tr>\n",
       "      <th>...</th>\n",
       "      <td>...</td>\n",
       "      <td>...</td>\n",
       "    </tr>\n",
       "    <tr>\n",
       "      <th>46367</th>\n",
       "      <td>zur</td>\n",
       "      <td>2</td>\n",
       "    </tr>\n",
       "    <tr>\n",
       "      <th>46368</th>\n",
       "      <td>zurcher</td>\n",
       "      <td>2</td>\n",
       "    </tr>\n",
       "    <tr>\n",
       "      <th>46369</th>\n",
       "      <td>zurich</td>\n",
       "      <td>2</td>\n",
       "    </tr>\n",
       "    <tr>\n",
       "      <th>46370</th>\n",
       "      <td>zwei</td>\n",
       "      <td>1</td>\n",
       "    </tr>\n",
       "    <tr>\n",
       "      <th>46371</th>\n",
       "      <td>zworykin</td>\n",
       "      <td>2</td>\n",
       "    </tr>\n",
       "  </tbody>\n",
       "</table>\n",
       "<p>46372 rows × 2 columns</p>\n",
       "</div>"
      ],
      "text/plain": [
       "             word  frequency\n",
       "0               a      23248\n",
       "1        a-coming          2\n",
       "2       a-crowing          1\n",
       "3      a-drinking          1\n",
       "4      a-gracious          1\n",
       "...           ...        ...\n",
       "46367         zur          2\n",
       "46368     zurcher          2\n",
       "46369      zurich          2\n",
       "46370        zwei          1\n",
       "46371    zworykin          2\n",
       "\n",
       "[46372 rows x 2 columns]"
      ]
     },
     "execution_count": 2,
     "metadata": {},
     "output_type": "execute_result"
    }
   ],
   "source": [
    "# Kucera & Francis Word Pool downloaded from http://memory.psych.upenn.edu/files/wordpools/kfpool.txt\n",
    "kf_corpus = pd.read_csv('kfpool.txt', header=None, sep=' ', names=['word', 'frequency'])\n",
    "\n",
    "kf_corpus"
   ]
  },
  {
   "cell_type": "markdown",
   "metadata": {},
   "source": [
    "Let's see how many four letter words there are in the corpus."
   ]
  },
  {
   "cell_type": "code",
   "execution_count": 3,
   "metadata": {},
   "outputs": [
    {
     "data": {
      "text/plain": [
       "2347"
      ]
     },
     "execution_count": 3,
     "metadata": {},
     "output_type": "execute_result"
    }
   ],
   "source": [
    "(kf_corpus.word.str.len() == 4).sum()"
   ]
  },
  {
   "cell_type": "markdown",
   "metadata": {},
   "source": [
    "That is more than 1179 words reported in McClelland & Rumelhart, 1981. Probably they filtered by frequency."
   ]
  },
  {
   "cell_type": "code",
   "execution_count": 4,
   "metadata": {},
   "outputs": [
    {
     "name": "stdout",
     "output_type": "stream",
     "text": [
      "There are 2347 four letter words with frequency larger than 0\n",
      "There are 1721 four letter words with frequency larger than 1\n",
      "There are 1444 four letter words with frequency larger than 2\n",
      "There are 1294 four letter words with frequency larger than 3\n",
      "There are 1188 four letter words with frequency larger than 4\n",
      "There are 1092 four letter words with frequency larger than 5\n",
      "There are 1029 four letter words with frequency larger than 6\n"
     ]
    }
   ],
   "source": [
    "for i in range(7):\n",
    "    word_count = len(kf_corpus[(kf_corpus.word.str.len() == 4) & (kf_corpus.frequency > i)])\n",
    "    print(f'There are {word_count} four letter words with frequency larger than {i}')"
   ]
  },
  {
   "cell_type": "markdown",
   "metadata": {},
   "source": [
    "Frequency threshold of 4 yields the number closest to 1179."
   ]
  },
  {
   "cell_type": "code",
   "execution_count": 5,
   "metadata": {},
   "outputs": [
    {
     "data": {
      "text/plain": [
       "1188"
      ]
     },
     "execution_count": 5,
     "metadata": {},
     "output_type": "execute_result"
    }
   ],
   "source": [
    "four_letter_words = kf_corpus[(kf_corpus.word.str.len() == 4) & (kf_corpus.frequency > 4)]\n",
    "len(four_letter_words)"
   ]
  },
  {
   "cell_type": "markdown",
   "metadata": {},
   "source": [
    "# Encode letters as feature bundles "
   ]
  },
  {
   "cell_type": "markdown",
   "metadata": {},
   "source": [
    "In the original model, the input letters came from a simplified font in which each letter is composed of a number of simplified line strokes (*features*) as in the following image:\n",
    "\n",
    "![Font from Rumelhar & Siple, 1974](rumelhart-siple-font.jpg)"
   ]
  },
  {
   "cell_type": "markdown",
   "metadata": {},
   "source": [
    "Here are all the features numbered from 0 to 13:\n",
    "\n",
    "![Numbered line features](line_features.png)"
   ]
  },
  {
   "cell_type": "markdown",
   "metadata": {},
   "source": [
    "A list of letters specifying which features it is composed of."
   ]
  },
  {
   "cell_type": "code",
   "execution_count": 6,
   "metadata": {},
   "outputs": [],
   "source": [
    "feature_numbers = {\n",
    "    'A': [0, 1, 2, 3, 4, 6, 8],\n",
    "    'B': [2, 3, 4, 5, 7, 8, 9],\n",
    "    'C': [0, 1, 2, 5],\n",
    "    'D': [2, 3, 4, 5, 7, 9],\n",
    "    'E': [0, 1, 2, 5, 6],\n",
    "    'F': [0, 1, 2, 6],\n",
    "    'G': [0, 1, 2, 4, 5, 8],\n",
    "    'H': [0, 1, 3, 4, 6, 8],\n",
    "    'I': [2, 5, 7, 9],\n",
    "    'J': [0, 3, 4, 5],\n",
    "    'K': [0, 1, 6, 11, 12],\n",
    "    'L': [0, 1, 5],\n",
    "    'M': [0, 1, 3, 4, 10, 11],\n",
    "    'N': [0, 1, 3, 4, 10, 12],\n",
    "    'O': [0, 1, 2, 3, 4, 5],\n",
    "    'P': [0, 1, 2, 3, 6, 8],\n",
    "    'Q': [0, 1, 2, 3, 4, 5, 12],\n",
    "    'R': [0, 1, 2, 3, 6, 8, 12],\n",
    "    'S': [1, 2, 4, 5, 6, 8],\n",
    "    'T': [2, 7, 9],\n",
    "    'U': [0, 1, 3, 4, 5],\n",
    "    'V': [0, 1, 11, 13],\n",
    "    'W': [0, 1, 3, 4, 12, 13],\n",
    "    'X': [10, 11, 12, 13],\n",
    "    'Y': [9, 10, 11],\n",
    "    'Z': [2, 5, 11, 13]\n",
    "}"
   ]
  },
  {
   "cell_type": "markdown",
   "metadata": {},
   "source": [
    "Let's draw all the letter to check that we got everything right. First, we need the coordinates of all features."
   ]
  },
  {
   "cell_type": "code",
   "execution_count": 7,
   "metadata": {},
   "outputs": [],
   "source": [
    "feature_coordinates = {\n",
    "    0: [(-1, -1), (-1, 0)],\n",
    "    1: [(-1, 0), (-1, 1)],\n",
    "    2: [(-1, 1), (1, 1)],\n",
    "    3: [(1, 1), (1, 0)],\n",
    "    4: [(1, 0), (1, -1)],\n",
    "    5: [(1, -1), (-1, -1)],\n",
    "    6: [(0, 0), (-1, 0)],\n",
    "    7  : [(0, 0), (0, 1)],\n",
    "    8 : [(0, 0), (1, 0)],\n",
    "    9 : [(0, 0), (0, -1)],\n",
    "    10 : [(0, 0), (-1, 1)],\n",
    "    11 : [(0, 0), (1, 1)],\n",
    "    12 : [(0 ,0), (1, -1)],\n",
    "    13 : [(0, 0), (-1, -1)]\n",
    "}"
   ]
  },
  {
   "cell_type": "markdown",
   "metadata": {},
   "source": [
    "Function that draws one letter:"
   ]
  },
  {
   "cell_type": "code",
   "execution_count": 8,
   "metadata": {},
   "outputs": [],
   "source": [
    "def draw_letter(feature_list, feature_coordinates, axes, color='k'):\n",
    "    axes.grid()\n",
    "    axes.set(xlim=(-1.2, 1.2), ylim=(-1.2, 1.2))\n",
    "    \n",
    "    # Remove ticks and labels from the axes\n",
    "    axes.tick_params(left=False, bottom=False, labelleft=False, labelbottom=False)\n",
    "   \n",
    "    for line_nmbr in feature_list:\n",
    "        line_coords = feature_coordinates[line_nmbr]\n",
    "        x_values = [line_coords[0][0], line_coords[1][0]]\n",
    "        y_values = [line_coords[0][1], line_coords[1][1]]\n",
    "        axes.plot(x_values, y_values, color = color, linewidth = 4)"
   ]
  },
  {
   "cell_type": "code",
   "execution_count": 9,
   "metadata": {},
   "outputs": [
    {
     "data": {
      "image/png": "[encoded data removed]",
      "text/plain": [
       "<Figure size 432x288 with 1 Axes>"
      ]
     },
     "metadata": {},
     "output_type": "display_data"
    }
   ],
   "source": [
    "plt.plot()\n",
    "axes=plt.gca()\n",
    "draw_letter(feature_list=feature_numbers['A'], \n",
    "            feature_coordinates=feature_coordinates, \n",
    "            axes=axes)\n"
   ]
  },
  {
   "cell_type": "markdown",
   "metadata": {},
   "source": [
    "Now, let's draw all of them."
   ]
  },
  {
   "cell_type": "code",
   "execution_count": 10,
   "metadata": {},
   "outputs": [
    {
     "data": {
      "image/png": "[encoded data removed]",
      "text/plain": [
       "<Figure size 432x288 with 27 Axes>"
      ]
     },
     "metadata": {
      "needs_background": "light"
     },
     "output_type": "display_data"
    }
   ],
   "source": [
    "def draw_letter_list(letter_list, feature_numbers, feature_coordinates):\n",
    "    N_letters = len(letter_list)\n",
    "    fig, axs = plt.subplots(3, 9)\n",
    "    for axes, lttr in zip(axs.flatten()[:N_letters], letter_list):\n",
    "        plt.sca(axes)\n",
    "        draw_letter(feature_numbers[lttr], feature_coordinates, axes)\n",
    "    \n",
    "    # Clear the last empty axes\n",
    "    axs.flatten()[-1].axis('off');\n",
    "    \n",
    "draw_letter_list(sorted(feature_numbers.keys())[:26], feature_numbers, feature_coordinates)"
   ]
  },
  {
   "cell_type": "markdown",
   "metadata": {},
   "source": [
    "![Font from Rumelhar & Siple, 1974](rumelhart-siple-font.jpg)"
   ]
  },
  {
   "cell_type": "markdown",
   "metadata": {},
   "source": [
    "Looks correct."
   ]
  },
  {
   "cell_type": "markdown",
   "metadata": {},
   "source": [
    "# Feature perception"
   ]
  },
  {
   "cell_type": "code",
   "execution_count": 11,
   "metadata": {},
   "outputs": [],
   "source": [
    "M = 1.0  # max activation\n",
    "m = -0.2  # min activation\n",
    "theta = 0.07  # decay rate\n",
    "r_feature = 0  # resting state activation"
   ]
  },
  {
   "cell_type": "code",
   "execution_count": 12,
   "metadata": {},
   "outputs": [],
   "source": [
    "feature_count = len(list(feature_coordinates.keys()))\n",
    "position_count = 4\n",
    "feature_nodes = np.zeros((position_count, feature_count))"
   ]
  },
  {
   "cell_type": "markdown",
   "metadata": {},
   "source": [
    "We'll have to represent the letters as a list of binary feature flags."
   ]
  },
  {
   "cell_type": "code",
   "execution_count": 13,
   "metadata": {},
   "outputs": [
    {
     "data": {
      "text/plain": [
       "{'A': [1, 1, 1, 1, 1, 0, 1, 0, 1, 0, 0, 0, 0, 0],\n",
       " 'B': [0, 0, 1, 1, 1, 1, 0, 1, 1, 1, 0, 0, 0, 0],\n",
       " 'C': [1, 1, 1, 0, 0, 1, 0, 0, 0, 0, 0, 0, 0, 0],\n",
       " 'D': [0, 0, 1, 1, 1, 1, 0, 1, 0, 1, 0, 0, 0, 0],\n",
       " 'E': [1, 1, 1, 0, 0, 1, 1, 0, 0, 0, 0, 0, 0, 0],\n",
       " 'F': [1, 1, 1, 0, 0, 0, 1, 0, 0, 0, 0, 0, 0, 0],\n",
       " 'G': [1, 1, 1, 0, 1, 1, 0, 0, 1, 0, 0, 0, 0, 0],\n",
       " 'H': [1, 1, 0, 1, 1, 0, 1, 0, 1, 0, 0, 0, 0, 0],\n",
       " 'I': [0, 0, 1, 0, 0, 1, 0, 1, 0, 1, 0, 0, 0, 0],\n",
       " 'J': [1, 0, 0, 1, 1, 1, 0, 0, 0, 0, 0, 0, 0, 0],\n",
       " 'K': [1, 1, 0, 0, 0, 0, 1, 0, 0, 0, 0, 1, 1, 0],\n",
       " 'L': [1, 1, 0, 0, 0, 1, 0, 0, 0, 0, 0, 0, 0, 0],\n",
       " 'M': [1, 1, 0, 1, 1, 0, 0, 0, 0, 0, 1, 1, 0, 0],\n",
       " 'N': [1, 1, 0, 1, 1, 0, 0, 0, 0, 0, 1, 0, 1, 0],\n",
       " 'O': [1, 1, 1, 1, 1, 1, 0, 0, 0, 0, 0, 0, 0, 0],\n",
       " 'P': [1, 1, 1, 1, 0, 0, 1, 0, 1, 0, 0, 0, 0, 0],\n",
       " 'Q': [1, 1, 1, 1, 1, 1, 0, 0, 0, 0, 0, 0, 1, 0],\n",
       " 'R': [1, 1, 1, 1, 0, 0, 1, 0, 1, 0, 0, 0, 1, 0],\n",
       " 'S': [0, 1, 1, 0, 1, 1, 1, 0, 1, 0, 0, 0, 0, 0],\n",
       " 'T': [0, 0, 1, 0, 0, 0, 0, 1, 0, 1, 0, 0, 0, 0],\n",
       " 'U': [1, 1, 0, 1, 1, 1, 0, 0, 0, 0, 0, 0, 0, 0],\n",
       " 'V': [1, 1, 0, 0, 0, 0, 0, 0, 0, 0, 0, 1, 0, 1],\n",
       " 'W': [1, 1, 0, 1, 1, 0, 0, 0, 0, 0, 0, 0, 1, 1],\n",
       " 'X': [0, 0, 0, 0, 0, 0, 0, 0, 0, 0, 1, 1, 1, 1],\n",
       " 'Y': [0, 0, 0, 0, 0, 0, 0, 0, 0, 1, 1, 1, 0, 0],\n",
       " 'Z': [0, 0, 1, 0, 0, 1, 0, 0, 0, 0, 0, 1, 0, 1]}"
      ]
     },
     "execution_count": 13,
     "metadata": {},
     "output_type": "execute_result"
    }
   ],
   "source": [
    "features_binary = {\n",
    "    letter: [1 if i in feature_list else 0 for i in range(feature_count)]\n",
    "    for letter, feature_list in feature_numbers.items()}\n",
    "\n",
    "features_binary"
   ]
  },
  {
   "cell_type": "code",
   "execution_count": 14,
   "metadata": {},
   "outputs": [],
   "source": [
    "def present_word(word: str):\n",
    "    \"\"\"\n",
    "    Activates features corresponding to the letters in the word\n",
    "    \"\"\"\n",
    "    global feature_nodes\n",
    "    features_present = np.array([features_binary[letter] for letter in word])\n",
    "    feature_nodes = M * features_present"
   ]
  },
  {
   "cell_type": "code",
   "execution_count": 15,
   "metadata": {},
   "outputs": [],
   "source": [
    "def f():\n",
    "    global feature_nodes\n",
    "    decay = (feature_nodes - r_feature) * theta\n",
    "    feature_nodes = feature_nodes - decay"
   ]
  },
  {
   "cell_type": "code",
   "execution_count": 16,
   "metadata": {},
   "outputs": [],
   "source": [
    "def draw_features():\n",
    "    fig, axs = plt.subplots(ncols=4, nrows=1)\n",
    "    for pos_features, axes in zip(feature_nodes, axs):\n",
    "        a = max(pos_features)  # activation level\n",
    "        color = (1 - a, 1 - a, 1 - a)\n",
    "        draw_letter(feature_list=np.nonzero(pos_features)[0], \n",
    "                    feature_coordinates=feature_coordinates, \n",
    "                    axes=axes,\n",
    "                    color=color)"
   ]
  },
  {
   "cell_type": "code",
   "execution_count": 17,
   "metadata": {
    "scrolled": false
   },
   "outputs": [
    {
     "name": "stdout",
     "output_type": "stream",
     "text": [
      "[[1.00 1.00 0.00 1.00 1.00 0.00 0.00 0.00 0.00 0.00 0.00 0.00 1.00 1.00]\n",
      " [1.00 1.00 1.00 1.00 1.00 1.00 0.00 0.00 0.00 0.00 0.00 0.00 0.00 0.00]\n",
      " [1.00 1.00 1.00 1.00 0.00 0.00 1.00 0.00 1.00 0.00 0.00 0.00 1.00 0.00]\n",
      " [1.00 1.00 0.00 0.00 0.00 0.00 1.00 0.00 0.00 0.00 0.00 1.00 1.00 0.00]]\n",
      "\n",
      "after 1 cycles:\n"
     ]
    },
    {
     "data": {
      "image/png": "[encoded data removed]",
      "text/plain": [
       "<Figure size 432x288 with 4 Axes>"
      ]
     },
     "metadata": {},
     "output_type": "display_data"
    },
    {
     "name": "stdout",
     "output_type": "stream",
     "text": [
      "\n",
      "after 2 cycles:\n"
     ]
    },
    {
     "data": {
      "image/png": "[encoded data removed]",
      "text/plain": [
       "<Figure size 432x288 with 4 Axes>"
      ]
     },
     "metadata": {},
     "output_type": "display_data"
    },
    {
     "name": "stdout",
     "output_type": "stream",
     "text": [
      "\n",
      "after 3 cycles:\n"
     ]
    },
    {
     "data": {
      "image/png": "[encoded data removed]",
      "text/plain": [
       "<Figure size 432x288 with 4 Axes>"
      ]
     },
     "metadata": {},
     "output_type": "display_data"
    },
    {
     "name": "stdout",
     "output_type": "stream",
     "text": [
      "\n",
      "after 4 cycles:\n"
     ]
    },
    {
     "data": {
      "image/png": "[encoded data removed]",
      "text/plain": [
       "<Figure size 432x288 with 4 Axes>"
      ]
     },
     "metadata": {},
     "output_type": "display_data"
    },
    {
     "name": "stdout",
     "output_type": "stream",
     "text": [
      "\n",
      "after 5 cycles:\n"
     ]
    },
    {
     "data": {
      "image/png": "[encoded data removed]",
      "text/plain": [
       "<Figure size 432x288 with 4 Axes>"
      ]
     },
     "metadata": {},
     "output_type": "display_data"
    },
    {
     "name": "stdout",
     "output_type": "stream",
     "text": [
      "\n",
      "after 6 cycles:\n"
     ]
    },
    {
     "data": {
      "image/png": "[encoded data removed]",
      "text/plain": [
       "<Figure size 432x288 with 4 Axes>"
      ]
     },
     "metadata": {},
     "output_type": "display_data"
    },
    {
     "name": "stdout",
     "output_type": "stream",
     "text": [
      "\n",
      "after 7 cycles:\n"
     ]
    },
    {
     "data": {
      "image/png": "[encoded data removed]",
      "text/plain": [
       "<Figure size 432x288 with 4 Axes>"
      ]
     },
     "metadata": {},
     "output_type": "display_data"
    },
    {
     "name": "stdout",
     "output_type": "stream",
     "text": [
      "\n",
      "after 8 cycles:\n"
     ]
    },
    {
     "data": {
      "image/png": "[encoded data removed]",
      "text/plain": [
       "<Figure size 432x288 with 4 Axes>"
      ]
     },
     "metadata": {},
     "output_type": "display_data"
    },
    {
     "name": "stdout",
     "output_type": "stream",
     "text": [
      "\n",
      "after 9 cycles:\n"
     ]
    },
    {
     "data": {
      "image/png": "[encoded data removed]",
      "text/plain": [
       "<Figure size 432x288 with 4 Axes>"
      ]
     },
     "metadata": {},
     "output_type": "display_data"
    },
    {
     "name": "stdout",
     "output_type": "stream",
     "text": [
      "\n",
      "after 10 cycles:\n"
     ]
    },
    {
     "data": {
      "image/png": "[encoded data removed]",
      "text/plain": [
       "<Figure size 432x288 with 4 Axes>"
      ]
     },
     "metadata": {},
     "output_type": "display_data"
    }
   ],
   "source": [
    "np.set_printoptions(precision=2, floatmode='fixed')\n",
    "present_word('WORK')\n",
    "print(feature_nodes)\n",
    "for t in range(10):\n",
    "    print(f'\\nafter {t + 1} cycles:')\n",
    "    f()\n",
    "    draw_features()\n",
    "    plt.show()"
   ]
  },
  {
   "cell_type": "markdown",
   "metadata": {},
   "source": [
    "# Letter layer"
   ]
  },
  {
   "cell_type": "code",
   "execution_count": 20,
   "metadata": {},
   "outputs": [],
   "source": [
    "letter_count = len(list(feature_numbers.keys()))\n",
    "position_count = 4\n",
    "r_letter = 0\n",
    "letter_nodes = np.ones((position_count, letter_count)) * r_letter"
   ]
  },
  {
   "cell_type": "code",
   "execution_count": 23,
   "metadata": {},
   "outputs": [],
   "source": [
    "def run_cycle():\n",
    "    global feature_nodes, letter_nodes\n",
    "    \n",
    "    feature_decay, letter_decay = calculate_decay()\n",
    "    feature_neighbours_effect, letter_neighbours_effect = calculate_neighbours_effect()\n",
    "    \n",
    "    feature_nodes += - feature_decay + feature_neighbours_effect\n",
    "    letter_nodes += - letter_decay + letter_neighbours_effect"
   ]
  },
  {
   "cell_type": "code",
   "execution_count": 22,
   "metadata": {},
   "outputs": [],
   "source": [
    "def calculate_decay():\n",
    "    feature_decay = (feature_nodes - r_feature) * theta\n",
    "    letter_decay = (letter_nodes - r_letter) * theta\n",
    "    return feature_decay, letter_decay"
   ]
  },
  {
   "cell_type": "code",
   "execution_count": 21,
   "metadata": {},
   "outputs": [],
   "source": [
    "def calculate_neighbours_effect():\n",
    "    # There are no connections to the feature level except for the visual input\n",
    "    feature_neighbours_effect = np.zeros(feature_nodes.shape)\n",
    "    \n",
    "    # Equation 1\n",
    "    # Only the active (activation > 0) nodes get to send signals.\n",
    "    # Inhibitory connections have negative weights in this implementation\n",
    "    # This won't work! feature_nodes and letter_nodes would need to be vectors for this\n",
    "    net_input = (feature_nodes * (feature_nodes > 0) @ feature_to_letter_weights\n",
    "               + letter_nodes * (letter_nodes > 0) @ letter_to_letter_weights)\n",
    "    \n",
    "    # Equation 2 and 3\n",
    "    letter_neighbours_effect = np.where(\n",
    "        net_input > 0,\n",
    "        net_input * (M - feature_nodes),\n",
    "        net_input * (feature_nodes - m)\n",
    "    )"
   ]
  },
  {
   "cell_type": "code",
   "execution_count": null,
   "metadata": {},
   "outputs": [],
   "source": [
    "feature_to_letter_weights = ???\n",
    "letter_to_letter_weights = ???"
   ]
  }
 ],
 "metadata": {
  "kernelspec": {
   "display_name": "Python [conda env:cogmod_1_IAM]",
   "language": "python",
   "name": "conda-env-cogmod_1_IAM-py"
  },
  "language_info": {
   "codemirror_mode": {
    "name": "ipython",
    "version": 3
   },
   "file_extension": ".py",
   "mimetype": "text/x-python",
   "name": "python",
   "nbconvert_exporter": "python",
   "pygments_lexer": "ipython3",
   "version": "3.7.7"
  },
  "toc": {
   "base_numbering": 1,
   "nav_menu": {},
   "number_sections": true,
   "sideBar": true,
   "skip_h1_title": false,
   "title_cell": "Table of Contents",
   "title_sidebar": "Contents",
   "toc_cell": false,
   "toc_position": {},
   "toc_section_display": true,
   "toc_window_display": true
  }
 },
 "nbformat": 4,
 "nbformat_minor": 4
}
